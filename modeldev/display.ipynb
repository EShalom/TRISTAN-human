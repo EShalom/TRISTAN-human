{
 "cells": [
  {
   "cell_type": "code",
   "execution_count": 3,
   "metadata": {},
   "outputs": [],
   "source": [
    "import os\n",
    "import plot"
   ]
  },
  {
   "cell_type": "code",
   "execution_count": 8,
   "metadata": {},
   "outputs": [],
   "source": [
    "filepath = os.path.abspath(\"\")\n",
    "resultspath = os.path.join(filepath, 'results')\n",
    "output_file = os.path.join(resultspath, 'parameters.csv')\n",
    "ylim = {\n",
    "    'Kbh': [0,5],\n",
    "    'Khe': [0,150],\n",
    "    'k_he_i': [0,30],\n",
    "    'k_he_m': [0,30],\n",
    "    'k_he_f': [0,30],\n",
    "    've': [0,500],\n",
    "    'k_bh': [0,4],\n",
    "    'k_he': [0,30],\n",
    "}\n",
    "#plot.create_bar_chart(output_file, ylim=ylim)\n",
    "#plot.create_box_plot(output_file, ylim=ylim)\n",
    "#plot.drug_effect(output_file)\n",
    "plot.diurnal_changes(output_file, ['k_he_i', 'k_he_f', 'k_he_m'])\n",
    "plot.diurnal_changes(output_file, ['Kbh_i', 'Kbh_f'])"
   ]
  }
 ],
 "metadata": {
  "kernelspec": {
   "display_name": "Python 3",
   "language": "python",
   "name": "python3"
  },
  "language_info": {
   "codemirror_mode": {
    "name": "ipython",
    "version": 3
   },
   "file_extension": ".py",
   "mimetype": "text/x-python",
   "name": "python",
   "nbconvert_exporter": "python",
   "pygments_lexer": "ipython3",
   "version": "3.10.10"
  },
  "orig_nbformat": 4
 },
 "nbformat": 4,
 "nbformat_minor": 2
}
