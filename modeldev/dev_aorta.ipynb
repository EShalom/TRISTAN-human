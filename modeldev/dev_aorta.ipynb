{
 "cells": [
  {
   "cell_type": "code",
   "execution_count": null,
   "metadata": {},
   "outputs": [],
   "source": [
    "import os\n",
    "import time\n",
    "import pandas as pd\n",
    "import numpy as np\n",
    "\n",
    "import data\n",
    "import plot\n",
    "from models.aorta import TwoShotTwoScan as Aorta\n"
   ]
  },
  {
   "cell_type": "markdown",
   "metadata": {},
   "source": [
    "Read data"
   ]
  },
  {
   "cell_type": "code",
   "execution_count": null,
   "metadata": {},
   "outputs": [],
   "source": [
    "filepath = os.path.abspath(\"\")\n",
    "datapath = os.path.join(filepath, 'devdata')\n",
    "resultspath = os.path.join(filepath, 'devresults')\n",
    "output_file = os.path.join(resultspath, 'parameters.csv')\n",
    "resultsfolder = os.path.dirname(output_file)\n",
    "s = os.listdir(datapath)[0]\n",
    "subj = os.path.join(datapath, s)\n",
    "subj_data = data.twoshot_twoscan(subj)\n",
    "(   time1, fa1, aorta1, liver1, portal1,\n",
    "    aorta_valid1, liver_valid1, portal_valid1,\n",
    "    time2, fa2, aorta2, liver2, portal2,\n",
    "    aorta_valid2, liver_valid2, portal_valid2,\n",
    "    T1time1, T1aorta1, T1liver1, T1portal1,\n",
    "    T1time2, T1aorta2, T1liver2, T1portal2,\n",
    "    T1time3, T1aorta3, T1liver3, T1portal3, \n",
    "    weight, dose1, dose2) = subj_data"
   ]
  },
  {
   "cell_type": "markdown",
   "metadata": {},
   "source": [
    "Fit aorta"
   ]
  },
  {
   "cell_type": "code",
   "execution_count": null,
   "metadata": {},
   "outputs": [],
   "source": [
    "# Fit aorta\n",
    "aorta = Aorta()\n",
    "# Set data\n",
    "aorta.weight = weight\n",
    "aorta.set_dose(dose1, dose2)\n",
    "aorta.set_x(time1, time2, valid=np.append(aorta_valid1, aorta_valid2))\n",
    "aorta.set_y(aorta1, aorta2)\n",
    "aorta.set_R10(T1time1, 1000.0/T1aorta1)\n",
    "aorta.set_R11(T1time2, 1000.0/T1aorta2)\n",
    "aorta.set_R12(T1time3, 1000.0/T1aorta3)\n",
    "# Set fit options\n",
    "aorta.callback = False\n",
    "aorta.ptol = 1e-6\n",
    "aorta.dose_tolerance = 0.1\n",
    "aorta.dt = 0.5"
   ]
  },
  {
   "cell_type": "code",
   "execution_count": null,
   "metadata": {},
   "outputs": [],
   "source": [
    "aorta.estimate_p()"
   ]
  },
  {
   "cell_type": "code",
   "execution_count": null,
   "metadata": {},
   "outputs": [],
   "source": [
    "# Perform fit\n",
    "\n",
    "print('Aorta goodness of fit: ', aorta.goodness())\n",
    "aorta.fit_p()\n",
    "print('Aorta goodness of fit: ', aorta.goodness())\n",
    "print(aorta.export_p())"
   ]
  },
  {
   "cell_type": "code",
   "execution_count": null,
   "metadata": {},
   "outputs": [],
   "source": [
    "aorta.plot_fit()"
   ]
  }
 ],
 "metadata": {
  "kernelspec": {
   "display_name": "Python 3",
   "language": "python",
   "name": "python3"
  },
  "language_info": {
   "codemirror_mode": {
    "name": "ipython",
    "version": 3
   },
   "file_extension": ".py",
   "mimetype": "text/x-python",
   "name": "python",
   "nbconvert_exporter": "python",
   "pygments_lexer": "ipython3",
   "version": "3.10.10"
  },
  "orig_nbformat": 4
 },
 "nbformat": 4,
 "nbformat_minor": 2
}
